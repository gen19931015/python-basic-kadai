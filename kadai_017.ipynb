{
  "nbformat": 4,
  "nbformat_minor": 0,
  "metadata": {
    "colab": {
      "provenance": [],
      "authorship_tag": "ABX9TyPYGrPo/M6K/YLTOuLoScew",
      "include_colab_link": true
    },
    "kernelspec": {
      "name": "python3",
      "display_name": "Python 3"
    },
    "language_info": {
      "name": "python"
    }
  },
  "cells": [
    {
      "cell_type": "markdown",
      "metadata": {
        "id": "view-in-github",
        "colab_type": "text"
      },
      "source": [
        "<a href=\"https://colab.research.google.com/github/gen19931015/python-basic-kadai/blob/main/kadai_017.ipynb\" target=\"_parent\"><img src=\"https://colab.research.google.com/assets/colab-badge.svg\" alt=\"Open In Colab\"/></a>"
      ]
    },
    {
      "cell_type": "code",
      "source": [
        "class Human:\n",
        "  def __init__(self,name,age):\n",
        "    self.name = name\n",
        "    self.age = age\n",
        "  def check_adult(self):\n",
        "    if self.age >= 20:\n",
        "      print(\"{}は大人です。\".format(self.name))\n",
        "    else:\n",
        "      print(\"{}は大人ではありません。\".format(self.name))\n",
        "\n",
        "human1 = Human(\"侍太郎\",15)\n",
        "human2 = Human(\"侍次郎\",19)\n",
        "human3 = Human(\"侍花子\",21)\n",
        "\n",
        "human_list =[human1,human2,human3]\n",
        "\n",
        "for human in human_list:\n",
        "  human.check_adult()\n",
        "\n",
        "\n",
        "\n",
        "\n"
      ],
      "metadata": {
        "colab": {
          "base_uri": "https://localhost:8080/"
        },
        "id": "ldfTsAL00UYl",
        "outputId": "77923b6b-29a0-4dc4-d601-99c2431f2382"
      },
      "execution_count": 23,
      "outputs": [
        {
          "output_type": "stream",
          "name": "stdout",
          "text": [
            "侍太郎は大人ではありません。\n",
            "侍次郎は大人ではありません。\n",
            "侍花子は大人です。\n"
          ]
        }
      ]
    }
  ]
}